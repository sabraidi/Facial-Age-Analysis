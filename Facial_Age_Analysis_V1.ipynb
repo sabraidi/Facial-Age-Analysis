{
 "cells": [
  {
   "cell_type": "markdown",
   "metadata": {},
   "source": [
    "# Automatisierte Gesichtserkennung mit Amazon Rekognition"
   ]
  },
  {
   "cell_type": "markdown",
   "metadata": {},
   "source": [
    "Mit Hilfe des Dienstes Amazon Rekognition soll automatisiert das Alter der Personen eingeschätzt werden, die jeweils auf dem Foto zu sehen ist. Das Ergebnis wird nicht auf das Lebensjahr genau angegeben, sondern befindet innerhalb einer Age Range. Perspektivisch soll das Modell so einsetzbar sein, dass eine real-time Vorhersage des Alters erfolgt und der User daraufhin Zugang zu unterschiedlichem Content erhält. \n",
    "Mögliche Szenarien aus der Praxis, in denen das Modell Anwendung findet, wären beispielsweise:\n",
    "* Marketing und Vertrieb - Altersspezifische personalisierte Werbung kann eingeblendet werden\n",
    "* Jugendmedienschutz - Jugendschutz-Modus innerhalb einer App oder auf dem ganzen Endgerät wird aktiviert"
   ]
  },
  {
   "cell_type": "markdown",
   "metadata": {},
   "source": [
    "### (Themenherleitung)\n",
    "Wie kommen wir auf Amazon Rekognition und Thema Gesichtserkennung? wieso hat das Relevanz?"
   ]
  },
  {
   "cell_type": "markdown",
   "metadata": {},
   "source": [
    "### Amazon Rekognition - Automatisierte Bild- und Videoanalyse mit Machine Learning\n",
    "Amazon Rekognition bietet Bild- und Videoanalysen mithilfe skalierbarer Deep Learning-Technologie. Der Dienst ermöglicht Objekte, Menschen, Text, Szenen und Aktivitäten in Bildern und Videos zu identifizieren. Amazon Rekognition bietet außerdem eine Gesichtsanalyse- und Gesichtssuchfunktionen, mit denen Gesichter für eine Vielzahl von Benutzerüberprüfungen, Personenzählungen und Anwendungsfällen für die öffentliche Sicherheit erkannt, analysiert und vergleichen werden können.\n",
    "\n",
    "Mit Custom Labels können darüber hinaus Objekte und Szenen in Bildern identifiziert werden, die für geschäftsspezifischen Anforderungen von Bedeutung sind. Es kann z. B. ein Modell erstellt werden, um bestimmte Maschinenteile auf einer Montagelinie zu klassifizieren oder fehlerhafte Anlagen zu erkennen. Über Amazon Rekognition Custom Labels kann die Modellentwicklung realisiert werden."
   ]
  },
  {
   "cell_type": "markdown",
   "metadata": {},
   "source": [
    "## Vorgehen ....."
   ]
  },
  {
   "cell_type": "markdown",
   "metadata": {},
   "source": [
    "### Verwendete Daten\n",
    "Zu Testzwecken wurde ein öffentlich zugänglicher Datensatz der Plattform Kaggle ausgewählt. Er beinhaltet insgesamt 10.000 (wie viel genau?) Aufnahmen verschiedener Menschen, sortiert nach dem jeweiligen Alter. "
   ]
  },
  {
   "cell_type": "markdown",
   "metadata": {},
   "source": [
    "### Darstellung der Ergebnisse durch Amazon Rekognition\n",
    "Es wurde eine Oberfläche konzipiet, auf der eine Aufnahme in vorgegebenem Format eingelesen werden kann und im Anschluss das jeweilge Ergebnis der Alterserkennung wiedergegeben wird."
   ]
  },
  {
   "cell_type": "markdown",
   "metadata": {},
   "source": [
    "### Validierung der Modell-Ergebnisse\n",
    "Um das Modell auf seine Güte zu testen, wurden die Ergebnisse anhand der Testdaten aus dem oben genannten Datensatz validiert. Geprüft wird, ob die Aufnahmen in die richtige Alterskategorie eingeordnet wurden oder wie groß die jeweilige Abweichung ausgefallen ist. Die Ergebnisse dieser Modell-Analyse werden mit \"R\" ausgewertet und dargestellt."
   ]
  },
  {
   "cell_type": "code",
   "execution_count": null,
   "metadata": {},
   "outputs": [],
   "source": []
  }
 ],
 "metadata": {
  "kernelspec": {
   "display_name": "Python 3",
   "language": "python",
   "name": "python3"
  },
  "language_info": {
   "codemirror_mode": {
    "name": "ipython",
    "version": 3
   },
   "file_extension": ".py",
   "mimetype": "text/x-python",
   "name": "python",
   "nbconvert_exporter": "python",
   "pygments_lexer": "ipython3",
   "version": "3.7.4"
  }
 },
 "nbformat": 4,
 "nbformat_minor": 4
}
